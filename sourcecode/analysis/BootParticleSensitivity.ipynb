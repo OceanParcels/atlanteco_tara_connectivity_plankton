{
 "cells": [
  {
   "cell_type": "markdown",
   "id": "650965b9-db16-478e-b6d1-974b27b933a1",
   "metadata": {},
   "source": [
    "\"\"\"\n",
    "Program to test how sensitive the connectivity time is to the number of released particles:\n",
    "Primary test based on surface connectivity without constraints\n",
    "Input- adjacency files from bootstrap runs\n",
    "Bootstrap runs without replacement (less than maximum number of particles).\n",
    "\"\"\""
   ]
  },
  {
   "cell_type": "code",
   "execution_count": null,
   "id": "47665aea-9e9a-481c-bbe1-3ecb934a9b02",
   "metadata": {},
   "outputs": [],
   "source": [
    "import os \n",
    "os.getcwd()"
   ]
  },
  {
   "cell_type": "code",
   "execution_count": 1,
   "id": "70d629c7-eab9-48be-be42-b13135a02c84",
   "metadata": {},
   "outputs": [],
   "source": [
    "import sys \n",
    "sys.path.append(\"/nethome/manra003/atlanteco_tara_connectivity_plankton/\")\n",
    "# sys.path\n",
    "# sys.path.remove('/nethome/manra003/atlanteco_tara_connectivity_plankton/sourcecode')"
   ]
  },
  {
   "cell_type": "code",
   "execution_count": 2,
   "id": "c60a10c3-4220-44e5-815f-05ce7a17eb4c",
   "metadata": {},
   "outputs": [],
   "source": [
    "import pandas as pd\n",
    "import numpy as np\n",
    "import matplotlib.pyplot as plt\n",
    "from sourcecode.core import adjacencygraph as ag\n",
    "from sourcecode.core import connectivityhelper as ch\n",
    "\n"
   ]
  },
  {
   "cell_type": "code",
   "execution_count": 3,
   "id": "7b2cb8be-ae29-485c-bc9c-744148cf1c22",
   "metadata": {},
   "outputs": [],
   "source": [
    "home_folder = '/nethome/manra003/analysis/paper01/'\n",
    "hex_res = 3\n",
    "\n",
    "master_grids_list = np.load(home_folder + 'H3_Res3_MasterHexList.npz')['Res3_HexId'].tolist()\n",
    "\n",
    "stations = pd.read_csv(home_folder + 'AtlanticStations.csv', header=0)\n",
    "lon = stations['Longitude']\n",
    "lat = stations['Latitude']\n",
    "code = stations['Station']\n"
   ]
  },
  {
   "cell_type": "code",
   "execution_count": 4,
   "id": "8ca1a994-aa68-4fdb-b5c6-0be06e683b32",
   "metadata": {},
   "outputs": [],
   "source": [
    "s = 1\n",
    "d = 9\n",
    "\n",
    "s_hex, d_hex = ch.get_hexids(lat[s], lon[s], hex_res), ch.get_hexids(lat[d], lon[d], hex_res)\n",
    "s_index, d_index = master_grids_list.index(s_hex), master_grids_list.index(d_hex)\n",
    "\n"
   ]
  },
  {
   "cell_type": "code",
   "execution_count": 5,
   "id": "cf7c6a42-bbcd-4cc9-9a38-44447d77cd42",
   "metadata": {},
   "outputs": [],
   "source": [
    "class Ensemble:\n",
    "\n",
    "    def __init__(self, size, state, fT, fP, bT, bP):\n",
    "        self.sample_size = size\n",
    "        self.ensemble_state = state\n",
    "        self.f_min_time = fT\n",
    "        self.f_min_path = fP\n",
    "        self.b_min_time = bT\n",
    "        self.b_min_path = bP\n",
    "\n",
    "    def to_dict(self):\n",
    "        return {\n",
    "            'Sample_size': self.sample_size,\n",
    "            'State': self.ensemble_state,\n",
    "            'F-minT': self.f_min_time,\n",
    "            'F-minP': self.f_min_path,\n",
    "            'B-minT': self.b_min_time,\n",
    "            'B-minP': self.b_min_path,\n",
    "\n",
    "        }"
   ]
  },
  {
   "cell_type": "code",
   "execution_count": 6,
   "id": "8651c58d-d329-493a-ab4c-e978f0ba83d9",
   "metadata": {},
   "outputs": [],
   "source": [
    "states_count = 50\n",
    "sample_size = [5000, 10000, 50000, 100000, 200000, 300000]"
   ]
  },
  {
   "cell_type": "code",
   "execution_count": 7,
   "id": "58f7e248-738b-42c9-b504-5722cf24d0c9",
   "metadata": {},
   "outputs": [],
   "source": [
    "for size in sample_size:\n",
    "    ensemble_list = list()\n",
    "    for state in range(1, states_count + 1):\n",
    "\n",
    "        atlantic_graph = ag.create_simple_graph(\n",
    "            home_folder + 'Boot_Sample/Size_{0}/Annual/State_{1}/Annual_Binary_DomainAdjacency_z0_csr.npz'.format(size,\n",
    "                                                                                                                state),\n",
    "            None)\n",
    "            \n",
    "        forward_path = ag.get_shortest_path(atlantic_graph, s_index, d_index)\n",
    "        if forward_path:\n",
    "            f_time = len(forward_path) - 1\n",
    "        else:\n",
    "            f_time = -1\n",
    "        backward_path = ag.get_shortest_path(atlantic_graph, d_index, s_index)\n",
    "        if backward_path:\n",
    "            b_time = len(backward_path) - 1\n",
    "        else:\n",
    "            b_time = -1\n",
    "\n",
    "        ensemble_list.append(Ensemble(size, state, f_time, forward_path, b_time, backward_path))\n",
    "    # export to dataframe and save file\n",
    "    pd.DataFrame.from_records([e.to_dict() for e in ensemble_list]).to_csv(\n",
    "        home_folder + 'Boot_Sample/outputs/EnsemblePaths_S{0}_D{1}_size{2}_en_{3}_z0.csv'.format(s, d, size, states_count))\n"
   ]
  },
  {
   "cell_type": "code",
   "execution_count": null,
   "id": "bde42f2a-ab8b-4701-834b-36a9dc3a352a",
   "metadata": {},
   "outputs": [],
   "source": []
  }
 ],
 "metadata": {
  "kernelspec": {
   "display_name": "Python 3 (ipykernel)",
   "language": "python",
   "name": "python3"
  },
  "language_info": {
   "codemirror_mode": {
    "name": "ipython",
    "version": 3
   },
   "file_extension": ".py",
   "mimetype": "text/x-python",
   "name": "python",
   "nbconvert_exporter": "python",
   "pygments_lexer": "ipython3",
   "version": "3.8.12"
  }
 },
 "nbformat": 4,
 "nbformat_minor": 5
}
